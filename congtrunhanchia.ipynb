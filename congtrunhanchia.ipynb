{
 "cells": [
  {
   "cell_type": "markdown",
   "id": "b7b68368-6740-4d48-a38c-49a581cb6a10",
   "metadata": {},
   "source": [
    "Cộng trừ nhân chia là việc mà máy tính <i>đã</i> làm giỏi hơn con người.\n",
    "Lý do: các phép toán này tuân theo những quy luật chính xác và cố định: 1 + 1 = 2; 2 x 2 = 4; \n",
    "Những quy luật này không thay đổi, không phụ thuộc vào độ dài của phép toán"
   ]
  },
  {
   "cell_type": "code",
   "execution_count": 65,
   "id": "73c5ac94-83d0-4ff9-b05d-316157ddb169",
   "metadata": {
    "tags": []
   },
   "outputs": [
    {
     "data": {
      "text/plain": [
       "121932631112635269"
      ]
     },
     "execution_count": 65,
     "metadata": {},
     "output_type": "execute_result"
    }
   ],
   "source": [
    "123456789 * 987654321"
   ]
  },
  {
   "cell_type": "code",
   "execution_count": 2,
   "id": "d25ed0dd-c3ce-48fa-a377-541d6b0bc9ae",
   "metadata": {
    "tags": []
   },
   "outputs": [
    {
     "data": {
      "text/plain": [
       "56088"
      ]
     },
     "execution_count": 2,
     "metadata": {},
     "output_type": "execute_result"
    }
   ],
   "source": []
  },
  {
   "cell_type": "code",
   "execution_count": 76,
   "id": "c162f27f-08b9-47d6-946c-b2936116bed1",
   "metadata": {
    "tags": []
   },
   "outputs": [
    {
     "name": "stdout",
     "output_type": "stream",
     "text": [
      "           123\n",
      "*          456\n",
      "--------------\n",
      "(6*123)    738\n",
      "(5*123)   615\n",
      "(4*123)  492\n",
      "--------------\n",
      "         56088\n"
     ]
    }
   ],
   "source": [
    "\n",
    "def nhan_tay(n1, n2):\n",
    "    n1_len = len(n1)\n",
    "    n2_len = len(n2)\n",
    "    estimated_result_len = n1_len + n2_len + n1_len + 4 + 1\n",
    "    print(f\"{n1:>{estimated_result_len}}\")\n",
    "    print(f\"{'*'}{n2:>{estimated_result_len-1}}\")\n",
    "    print(\"-\" * estimated_result_len)\n",
    "    result = 0\n",
    "    dec = 1\n",
    "    for i, digit in enumerate(reversed(n2)):\n",
    "        print(f\"({digit}*{n1})\", end=\"\")\n",
    "        prod = int(digit) * int(n1)\n",
    "        result += prod * dec\n",
    "        dec *= 10\n",
    "        print (f\"{prod:>{estimated_result_len-n1_len-i-4}}\")\n",
    "    print(\"-\" * estimated_result_len)\n",
    "    print(f\"{result:>{estimated_result_len}}\")\n",
    "\n",
    "n1 = \"123\"\n",
    "n2 = \"456\"\n",
    "nhan_tay(n1, n2)"
   ]
  },
  {
   "cell_type": "code",
   "execution_count": 77,
   "id": "ebd699eb-36b7-42d6-81eb-cd199ce667f1",
   "metadata": {
    "tags": []
   },
   "outputs": [
    {
     "name": "stdout",
     "output_type": "stream",
     "text": [
      "                       123456789\n",
      "*                      987654321\n",
      "--------------------------------\n",
      "(1*123456789)          123456789\n",
      "(2*123456789)         246913578\n",
      "(3*123456789)        370370367\n",
      "(4*123456789)       493827156\n",
      "(5*123456789)      617283945\n",
      "(6*123456789)     740740734\n",
      "(7*123456789)    864197523\n",
      "(8*123456789)   987654312\n",
      "(9*123456789) 1111111101\n",
      "--------------------------------\n",
      "              121932631112635269\n"
     ]
    }
   ],
   "source": [
    "n1 = \"123456789\"\n",
    "n2 = \"987654321\"\n",
    "nhan_tay(n1, n2)"
   ]
  },
  {
   "cell_type": "markdown",
   "id": "cdb11835-beef-4f97-81c6-ba1c7bc90d9a",
   "metadata": {
    "tags": []
   },
   "source": [
    "<p>Đoạn mã này định nghĩa một hàm <code>nhan_tay</code> để thực hiện phép nhân số học giữa hai số nguyên dương, được biểu diễn dưới dạng chuỗi. Hãy xem xét chi tiết từng phần của hàm:</p><ol><li><p><strong>Định nghĩa hàm</strong>:</p><ul><li><code>def nhan_tay(n1, n2)</code>: Hàm này nhận vào hai chuỗi <code>n1</code> và <code>n2</code>, tượng trưng cho hai số nguyên cần nhân với nhau.</li></ul></li><li><p><strong>Xác định chiều dài của kết quả</strong>:</p><ul><li><code>n1_len</code> và <code>n2_len</code> được tính để xác định chiều dài của hai số.</li><li><code>estimated_result_len</code> ước lượng chiều dài tối đa của kết quả, bao gồm chiều dài của cả hai số và khoảng trống cần thiết cho việc hiển thị.</li></ul></li><li><p><strong>Hiển thị phép nhân</strong>:</p><ul><li>Hàm in ra hai số <code>n1</code> và <code>n2</code> theo định dạng của phép nhân, cùng với dấu <code>*</code> và dòng phân cách bằng dấu gạch ngang.</li></ul></li><li><p><strong>Tính toán và hiển thị từng bước</strong>:</p><ul><li>Vòng lặp <code>for</code> duyệt qua từng chữ số của <code>n2</code> từ phải sang trái.</li><li>Trong mỗi lần lặp, hàm tính toán phép nhân của chữ số đó của <code>n2</code> với toàn bộ <code>n1</code> (sử dụng hàm <code>eval</code>).</li><li>Kết quả từng bước được cộng dồn vào <code>result</code> sau khi nhân với <code>dec</code> (một lũy thừa của 10, tăng dần sau mỗi bước lặp để đảm bảo đặt các chữ số ở đúng vị trí).</li></ul></li><li><p><strong>In kết quả</strong>:</p><ul><li>Hàm in ra dòng phân cách cuối cùng bằng dấu gạch ngang.</li><li>Cuối cùng, hàm in ra kết quả tổng cộng của phép nhân, được căn lề phải để phù hợp với chiều dài ước lượng.</li></ul></li></ol><p>Tóm lại, hàm này mô phỏng cách thực hiện phép nhân tay thông thường, với mỗi bước nhân và cộng được thực hiện một cách rõ ràng và hiển thị trực tiếp trên màn hình. Mục đích chính là để dễ dàng theo dõi và hiểu cách thức nhân số trong toán học, chứ không phải để cung cấp một phương pháp hiệu quả cho việc tính toán trong lập trình.</p>"
   ]
  },
  {
   "cell_type": "code",
   "execution_count": null,
   "id": "0aed08fb-a3e8-40a9-87ea-a346a934cbd7",
   "metadata": {},
   "outputs": [],
   "source": [
    "def nhan_tay_simplify(n1, n2):\n",
    "    result = 0\n",
    "    dec = 1\n",
    "    for digit in reversed(n2):\n",
    "        prod = int(digit) * int(n1)\n",
    "        result += prod * dec\n",
    "        dec *= 10\n",
    "    print(f\"{n1} * {n2} = {result}\")\n",
    "    return result"
   ]
  },
  {
   "cell_type": "code",
   "execution_count": 66,
   "id": "47344b7a-8975-4f55-a6e8-c3225f5698ca",
   "metadata": {
    "tags": []
   },
   "outputs": [
    {
     "name": "stdout",
     "output_type": "stream",
     "text": [
      " 22222             | 22 = 1010 dư 2\n",
      "--------------------------------\n",
      "-0           (0*22)| 0\n",
      " -                 |\n",
      " 22           (2_2)|\n",
      "-22          (1*22)| 01\n",
      " --                |\n",
      "  02          (0_2)|\n",
      "  -0         (0*22)| 010\n",
      "   -               |\n",
      "   22         (2_2)|\n",
      "  -22        (1*22)| 0101\n",
      "   --              |\n",
      "    02        (0_2)|\n",
      "    -0       (0*22)| 01010\n",
      "     -             |\n",
      "     2         (2_)|\n",
      "     =\n",
      "\n"
     ]
    },
    {
     "data": {
      "text/plain": [
       "(1010, 2)"
      ]
     },
     "execution_count": 66,
     "metadata": {},
     "output_type": "execute_result"
    }
   ],
   "source": [
    "def divide(x, y, inner_work=False):\n",
    "    if y > x:\n",
    "        return 0, x\n",
    "    \n",
    "    x = str(x)\n",
    "    q = \"\"\n",
    "    r = \"\"\n",
    "\n",
    "    workings = \"-\"*(2*len(str(x))+len(str(y))+20)+\"\\n\"\n",
    "    len_to_separate = len(str(x))+len(str(y))+4+4\n",
    "    current_r = \"\"\n",
    "    for i in range(0, len(x)):\n",
    "        r += \"0\"\n",
    "        num = int(r) + int(x[i])\n",
    "        \n",
    "        m = 0\n",
    "        while (m + 1) * y <= num:\n",
    "            m += 1\n",
    "        sum = m * y\n",
    "        \n",
    "        r = str(num-sum)\n",
    "        q = f\"{q}{m}\"\n",
    "        ls = len(str(sum))\n",
    "\n",
    "        if inner_work:\n",
    "            current_r += str(m)\n",
    "            math_str = \" \"*(i+1-ls) + f\"-{sum}\"\n",
    "            explain = f\"({m}*{y})\"\n",
    "            workings += math_str + \" \"*(len_to_separate+4-len(math_str)-len(explain))+explain+\"|\" + \" \"+ current_r+\"\\n\"\n",
    "            workings += \" \"*(i+2-ls) + \"-\"*ls + \" \"*(len_to_separate-i+2)+ \"|\\n\"\n",
    "            math_str = \" \"*(i+2-len(r)) + r + (\"\" if i >= len(x) else x[i+1:i+2])# + \"\\n\"\n",
    "            explain = f\"({r}_{'' if i >= len(x) else x[i+1:i+2]})\"\n",
    "            workings += math_str + \" \"*(\n",
    "                len_to_separate+5-len(math_str)-len(explain)-1\n",
    "            )+explain+\"|\\n\"\n",
    "    workings += \" \"* (len(x)-len(r)+1) + \"=\"* len(r) + \"\\n\"\n",
    "    \n",
    "    print(f\" {x:<{len_to_separate+2}} | {y} = {int(q)} dư {r}\\n{workings}\")\n",
    "    return int(q), int(r)\n",
    "divide(22222, 22, inner_work=True)"
   ]
  },
  {
   "cell_type": "code",
   "execution_count": null,
   "id": "407d601e-1e8c-4068-ae1b-721940ea34e8",
   "metadata": {},
   "outputs": [],
   "source": []
  },
  {
   "cell_type": "markdown",
   "id": "185b2fdc-8aba-49bd-b276-91afaa6f043e",
   "metadata": {
    "tags": []
   },
   "source": [
    "<p>Đoạn mã này định nghĩa một hàm <code>divide</code> để thực hiện phép chia số học với các số nguyên dương. Hãy cùng phân tích từng phần của hàm này:</p><ol><li><p><strong>Định nghĩa hàm</strong>:</p><ul><li><code>def divide(x, y, inner_work=False)</code>: Hàm này nhận vào ba tham số: <code>x</code> và <code>y</code> là hai số nguyên cần chia, và <code>inner_work</code>, một giá trị boolean để quyết định có hiển thị quá trình tính toán chi tiết hay không.</li></ul></li><li><p><strong>Trường hợp đặc biệt</strong>:</p><ul><li><code>if y &gt; x: return 0, x</code>: Nếu <code>y</code> lớn hơn <code>x</code>, tức là không thể chia được, hàm sẽ trả về 0 và số dư là <code>x</code>.</li></ul></li><li><p><strong>Chuẩn bị các biến</strong>:</p><ul><li><code>x</code> được chuyển đổi thành chuỗi để dễ dàng truy cập từng chữ số.</li><li><code>q</code> (thương) và <code>r</code> (số dư) được khởi tạo là chuỗi rỗng.</li><li><code>workings</code> và các biến khác được sử dụng để lưu trữ và hiển thị quá trình tính toán nếu <code>inner_work</code> là <code>True</code>.</li></ul></li><li><p><strong>Vòng lặp chính</strong>:</p><ul><li>Vòng lặp <code>for</code> duyệt qua từng chữ số của <code>x</code>.</li><li>Trong mỗi lần lặp, hàm tính toán số dư <code>r</code> và thêm vào <code>q</code>.</li><li>Sử dụng thuật toán chia số học cơ bản, hàm tính toán số m (chữ số tiếp theo của thương) sao cho <code>y * m</code> là lớn nhất nhưng không vượt quá phần của <code>x</code> hiện tại.</li></ul></li><li><p><strong>Hiển thị quá trình làm việc (nếu cần)</strong>:</p><ul><li>Nếu <code>inner_work</code> là <code>True</code>, hàm sẽ hiển thị các bước tính toán chi tiết, bao gồm việc trừ và tính số dư sau mỗi bước.</li></ul></li><li><p><strong>Kết quả</strong>:</p><ul><li>Hàm in ra kết quả dạng <code>x / y = q dư r</code> cùng với quá trình tính toán chi tiết (nếu <code>inner_work</code> là <code>True</code>).</li><li>Cuối cùng, hàm trả về <code>q</code> (thương) và <code>r</code> (số dư) dưới dạng số nguyên.</li></ul></li></ol><p>Tóm lại, đoạn mã này là một cách thủ công để thực hiện phép chia số học với việc hiển thị chi tiết từng bước của quá trình chia, giúp dễ dàng theo dõi và hiểu cách thức chia số trong toán học.</p>"
   ]
  },
  {
   "cell_type": "code",
   "execution_count": 68,
   "id": "e7550af3-b67d-4d70-92a3-76e0f485c6c6",
   "metadata": {
    "tags": []
   },
   "outputs": [
    {
     "data": {
      "text/plain": [
       "(1111, 0)"
      ]
     },
     "execution_count": 68,
     "metadata": {},
     "output_type": "execute_result"
    }
   ],
   "source": [
    "def divide_simple(x, y):\n",
    "    if y > x:\n",
    "        return 0, x\n",
    "\n",
    "    x = str(x)\n",
    "    ket_qua = \"\"\n",
    "    du = \"\"\n",
    "\n",
    "    for i in range(len(x)):\n",
    "        r += \"0\"\n",
    "        # ha chu so bi chia\n",
    "        num = int(r) + int(x[i])\n",
    "        thuong = 0\n",
    "        # tim thuong\n",
    "        while (thuong + 1) * y <= num:\n",
    "            thuong += 1\n",
    "        \n",
    "        du = str(num - thuong * y)\n",
    "        ket_qua += str(thuong)\n",
    "\n",
    "    return int(ket_qua), int(du)\n",
    "divide_simple(2222, 2)"
   ]
  },
  {
   "cell_type": "code",
   "execution_count": null,
   "id": "874ea6d3-f562-4d97-a762-27c7e3510442",
   "metadata": {},
   "outputs": [],
   "source": [
    "so_bi_chia = \"1234\"\n",
    "so_chia = \"22\"\n",
    "so_chu_so_bi_chia = len(so_bi_chia)\n",
    "so_chu_so_chia = len(so_chia)\n",
    "print (f\"{so_bi_chia}|{so_chia}\")\n",
    "\n",
    "vi_tri_hien_tai = so_chu_so_chia\n",
    "x = so_bi_chia[0:vi_tri_hien_tai]\n",
    "if int(x) < int(so_chia):\n",
    "    vi_tri_hien_tai += 1\n",
    "    x = so_bi_chia[0:vi_tri_hien_tai]\n",
    "\n",
    "for i in range(1, 10):\n",
    "    if i * int(so_chia) > x:\n",
    "        break\n",
    "print (i-1)\n",
    "du = x - (i-1)*so_chia\n",
    "print (f\"{du}\")\n",
    "du = str(du) + so_chu_so_bi_chia[vi_tri_hien_tai]\n",
    "vi_tri_hien_tai += 1\n",
    "chia(du, so_chia)\n",
    "\n",
    "\n",
    "def chia(so_bi_chia, so_chia):\n",
    "    if so_bi_chia < so_chia:\n",
    "        return 0, so_bi_chia\n",
    "    else:\n",
    "        so_chu_so_bi_chia = len(so_bi_chia)\n",
    "        so_chu_so_chia = len(so_chia)\n",
    "        vi_tri_hien_tai = so_chu_so_chia\n",
    "        x = so_bi_chia[0:vi_tri_hien_tai]\n",
    "        if int(x) < int(so_chia):\n",
    "            vi_tri_hien_tai += 1\n",
    "            x = so_bi_chia[0:vi_tri_hien_tai]\n",
    "        for i in range(1, 10):\n",
    "            if i * int(so_chia) > x:\n",
    "                break\n",
    "        du = x - (i-1)*so_chia\n",
    "        print (f\"{x} chia {so_chia} duoc {i-1} du {du}\")\n",
    "        # ha\n",
    "        so_bi_chia_moi = str(du) + so_bi_chia[vi_tri_hien_tai:]\n",
    "        thuong, du = chia(so_bi_chia_moi, so_chia)\n",
    "        return i-1, \n",
    "        \n",
    "        \n",
    "            \n",
    "            \n",
    "        \n",
    "        \n",
    "        \n",
    "        \n",
    "    \n",
    "    "
   ]
  }
 ],
 "metadata": {
  "kernelspec": {
   "display_name": "Python 3 (ipykernel)",
   "language": "python",
   "name": "python3"
  },
  "language_info": {
   "codemirror_mode": {
    "name": "ipython",
    "version": 3
   },
   "file_extension": ".py",
   "mimetype": "text/x-python",
   "name": "python",
   "nbconvert_exporter": "python",
   "pygments_lexer": "ipython3",
   "version": "3.8.0"
  }
 },
 "nbformat": 4,
 "nbformat_minor": 5
}
