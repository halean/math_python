{
 "cells": [
  {
   "cell_type": "code",
   "execution_count": null,
   "id": "892d16e7-2ee9-4e32-a1dd-2318a16dc366",
   "metadata": {},
   "outputs": [],
   "source": [
    "def doc_so(x):\n",
    "    don_vi = [\"không\", \"một\", \"hai\", \"ba\", \"bốn\",\n",
    "              \"năm\", \"sáu\", \"bảy\", \"tám\", \"chín\"]\n",
    "    \n",
    "    don_vi_l = [\"\", \"mốt\",\"hai\", \"ba\", \"bốn\",\n",
    "                \"lăm\", \"sáu\", \"bảy\", \"tám\", \"chín\"]\n",
    "    \n",
    "    hang_ti = x // 1_000_000_000\n",
    "    hang_trieu = (x - hang_ti * 1_000_000_000) // 1_000_000\n",
    "    hang_nghin = (x - hang_ti * 1_000_000_000 - hang_trieu * 1_000_000) // 1_000\n",
    "    hang_tram = (x - hang_ti  * 1_000_000_000 - hang_trieu * 1_000_000 - hang_nghin * 1000) // 100\n",
    "    print (hang_trieu, hang_nghin)\n",
    "    try:\n",
    "        if hang_ti > 0:\n",
    "            return doc_so(hang_ti) + \" tỉ \" + doc_so(x - hang_ti * 1_000_000_000)\n",
    "        if hang_trieu > 0:\n",
    "            return doc_so(hang_trieu) + \" triệu \" + doc_so(x - hang_ti * 1_000_000_000 - hang_trieu * 1_000_000)\n",
    "        elif hang_nghin > 0:\n",
    "            if x % 1_000 == 0:\n",
    "                return doc_so(hang_nghin) + \" nghìn\"\n",
    "            else:\n",
    "                return doc_so(hang_nghin) + \" nghìn \" + doc_so(x % 1000)\n",
    "        else:\n",
    "            if x % 100 == 0:\n",
    "                return don_vi[x // 100] + \" trăm\"\n",
    "            \n",
    "            hang_tram  = don_vi[x // 100] + \" trăm \"\n",
    "            x = x % 100\n",
    "            if x // 10 > 1:\n",
    "                return  hang_tram + don_vi[x // 10] + \" mươi \" + don_vi_l[x % 10]\n",
    "            elif x == 10:\n",
    "                return hang_tram + \"mười\"\n",
    "            elif x == 11:\n",
    "                return hang_tram + \"mười một\"\n",
    "            elif x < 10:\n",
    "                return hang_tram + \"lẽ \"+ don_vi[x]\n",
    "            else: \n",
    "                return hang_tram + \"mười \" + don_vi_l[x % 10]\n",
    "    except:\n",
    "        raise\n",
    "\n",
    "    \n",
    "for so in [1, 10, 11, 15, 19, 20, 21, 25, 100, 101, 125, 1000, 1001, 123_001_100, 123_123_123, 123_123_123_123_123]:\n",
    "    print(so, doc_so(so))"
   ]
  },
  {
   "cell_type": "code",
   "execution_count": null,
   "id": "65e5ae48-7df6-4dcd-88da-f3452c2b4dd3",
   "metadata": {},
   "outputs": [],
   "source": [
    "Đoạn mã bạn đưa ra là một hàm trong Python để đọc số tiếng Việt từ một số nguyên x. Hãy cùng phân tích từng phần của mã:\n",
    "\n",
    "Khởi tạo các danh sách số: Hàm bắt đầu bằng việc khai báo hai danh sách don_vi và don_vi_l chứa các cách đọc số từ 0 đến 9. don_vi_l là biến thể của don_vi dùng trong trường hợp đặc biệt (ví dụ: \"một\" đọc là \"mốt\" sau \"mười\", \"năm\" đọc là \"lăm\" trong một số trường hợp).\n",
    "\n",
    "Tách số: Tiếp theo, hàm tách số x thành các hàng tỷ, triệu, nghìn, và trăm. Mỗi biến (hang_ti, hang_trieu, hang_nghin, hang_tram) chứa giá trị tương ứng của mỗi hàng.\n",
    "\n",
    "Đệ quy và xử lý số: Phần lớn của hàm là các câu lệnh điều kiện và đệ quy để xác định cách đọc số:\n",
    "\n",
    "Nếu hang_ti lớn hơn 0, hàm sẽ đọc phần tỷ rồi đệ quy với phần còn lại của số.\n",
    "Tương tự, nếu hang_trieu lớn hơn 0, hàm sẽ đọc phần triệu rồi đệ quy với phần còn lại.\n",
    "Nếu hang_nghin lớn hơn 0, hàm sẽ xử lý phần nghìn. Nếu số còn lại là chẵn nghìn, chỉ đọc \"nghìn\", nếu không đệ quy với phần còn lại.\n",
    "Đối với hàng trăm và hàng chục, hàm sử dụng các điều kiện để xác định cách đọc phù hợp (ví dụ: \"mười\", \"mười một\", \"lẽ\", v.v.).\n",
    "Xử lý ngoại lệ: Hàm sử dụng khối try-except để bắt và xử lý ngoại lệ, nếu có.\n",
    "\n",
    "Hàm này là một ví dụ của việc xử lý số trong ngôn ngữ tự nhiên, nó chứa cả logic xử lý số và cách đọc số phù hợp trong tiếng Việt."
   ]
  },
  {
   "cell_type": "markdown",
   "id": "582e6ef1-65ca-40b9-8522-5ec14813e4f3",
   "metadata": {},
   "source": [
    "Chuyển từ số la mã sang số thập phân: \n",
    "\n",
    "Một ký hiệu nhỏ hơn đứng trước một ký hiệu lớn hơn: trừ\n",
    "\n",
    "Một ký hiệu lớn hơn đứng trước một ký hiệu nhỏ hơn: cộng\n",
    "\n",
    "Ví dụ: XXVI =  10+10+5+1 = 26\n",
    "\n",
    "XXIX = 10+10-1+10 = 29\n",
    "\n",
    "VII = 5+1+1 =7\n"
   ]
  },
  {
   "cell_type": "code",
   "execution_count": null,
   "id": "1f418e1b-15ae-41d8-88f6-62e690078434",
   "metadata": {},
   "outputs": [],
   "source": [
    "def roman_to_decimal(roman_numeral):\n",
    "    roman_dict = {'I': 1, 'V': 5, 'X': 10, 'L': 50, 'C': 100, 'D': 500, 'M': 1000}\n",
    "    decimal_value = 0\n",
    "    prev_value = 0\n",
    "\n",
    "    for symbol in reversed(roman_numeral):\n",
    "        value = roman_dict[symbol]\n",
    "\n",
    "        if value < prev_value:\n",
    "            decimal_value -= value\n",
    "        else:\n",
    "            decimal_value += value\n",
    "\n",
    "        prev_value = value\n",
    "\n",
    "    return decimal_value\n",
    "print(\"XXVI :\", roman_to_decimal(\"XXVI\"))\n",
    "print(\"XXIX :\", roman_to_decimal(\"XXIX\"))\n",
    "print(\"VII :\", roman_to_decimal(\"VII\"))\n",
    "\n",
    "for so_la_ma in [\"XXVI\", \"XXIX\", \"VII\", \"MCCXC\"]:\n",
    "    print (so_la_ma,\":\", roman_to_decimal(so_la_ma))"
   ]
  },
  {
   "cell_type": "code",
   "execution_count": null,
   "id": "ca5a987e-dbb0-47df-bed5-508f91c804bd",
   "metadata": {},
   "outputs": [],
   "source": [
    "def so_sanh_hai_so_tu_nhien(a,b):\n",
    "\n",
    "  if len(a)>len(b):\n",
    "    return f\"{a} lớn hơn {b}\"\n",
    "  elif len(a)<len(b):\n",
    "    return f\"{b} lớn hơn {a}\"\n",
    "  else:\n",
    "    for da,db in zip(a,b):\n",
    "      if ord(da)>ord(db):\n",
    "        return f\"{a} lớn hơn {b}\"\n",
    "      elif ord(db)>ord(da):\n",
    "        return f\"{b} lớn hơn {a}\"\n",
    "  return f\"{a} bằng {b}\"\n",
    "\n",
    "print (so_sanh_hai_so_tu_nhien(\"123\",\"456\"))\n",
    "print (so_sanh_hai_so_tu_nhien(\"1234\",\"456\"))\n",
    "print (so_sanh_hai_so_tu_nhien(\"123\",\"124\"))\n",
    "print (so_sanh_hai_so_tu_nhien(\"135946\",\"139457\"))"
   ]
  },
  {
   "cell_type": "markdown",
   "id": "b0f355ed-d5c0-4cf1-9e80-3967ef49755b",
   "metadata": {},
   "source": [
    "Hàm `so_sanh_hai_so_tu_nhien(a, b)` so sánh hai số tự nhiên `a` và `b`. Cách thức so sánh như sau:\n",
    "\n",
    "Nếu độ dài của `a` lớn hơn độ dài của `b`, ta kết luận `a` lớn hơn `b`. Ngược lại, nếu độ dài của `a` nhỏ hơn độ dài của `b`, ta kết luận `b` lớn hơn `a`. Trường hợp cả `a` và `b` có cùng độ dài, ta so sánh từng chữ số tương ứng của hai số. Dùng hàm `zip()` để duyệt qua từng cặp chữ số. Nếu giá trị Unicode của chữ số tại vị trí `da` trong `a` lớn hơn giá trị Unicode của chữ số tại vị trí `db` trong `b`, ta kết luận `a` lớn hơn `b`. Ngược lại, nếu giá trị Unicode của `db` lớn hơn giá trị Unicode của `da`, ta kết luận `b` lớn hơn `a`. Nếu cả `a` và `b` đều bằng nhau sau khi so sánh từng chữ số, ta kết luận `a` bằng `b`. Trong các ví dụ trên:\n",
    "\n",
    "\"123\" có độ dài 3, trong khi \"456\" có độ dài 3. Nhưng khi so sánh từng chữ số, ta thấy \"4\" trong \"456\" có giá trị Unicode lớn hơn \"1\" trong \"123\". Do đó, kết quả là \"456 lớn hơn 123\". \"1234\" có độ dài 4, trong khi \"456\" có độ dài 3. Vì độ dài của a lớn hơn b, nên kết quả là \"1234 lớn hơn 456\". \"123\" và \"124\" đều có độ dài 3. Khi so sánh từng chữ số, ta thấy \"4\" trong \"124\" có giá trị Unicode lớn hơn \"3\" trong \"123\". Do đó, kết quả là \"124 lớn hơn 123\". Trong ví dụ cuối cùng, \"135946\" và \"139457\" đều có độ dài là 6. Khi so sánh từng chữ số, ta thấy \"1\", \"3\" là giống nhau ở cả hai chuỗi nhưng \"9\" trong \"13<ins>9</ins>457\" có giá trị Unicode lớn hơn \"5\" trong \"13<ins>5</ins>946\". Do đó, kết quả là \"139457 lớn hơn 135946\"."
   ]
  },
  {
   "cell_type": "code",
   "execution_count": null,
   "id": "39d212b4-555a-4711-8500-b45d6e25fb1f",
   "metadata": {},
   "outputs": [],
   "source": [
    "#so tu nhien lon nhat co sau chu so khac nhau\n",
    "def so_tu_nhien_lon_nhat_co_sau_chu_so_khac_nhau():\n",
    "\n",
    "  max = 0\n",
    "  for i in range(1000000):\n",
    "    if len(set(str(i)))<6:\n",
    "      continue\n",
    "    else:\n",
    "      max = i\n",
    "  print (max)\n",
    "\n",
    "so_tu_nhien_lon_nhat_co_sau_chu_so_khac_nhau()\n"
   ]
  },
  {
   "cell_type": "code",
   "execution_count": null,
   "id": "0a6cdbe2-066a-456b-8fad-c0d6b02ebec7",
   "metadata": {},
   "outputs": [],
   "source": [
    "Đoạn mã này định nghĩa một hàm so_tu_nhien_lon_nhat_co_sau_chu_so_khac_nhau() trong Python. Mục đích của hàm là tìm số tự nhiên lớn nhất có sáu chữ số khác nhau. Cách thức hoạt động của nó như sau:\n",
    "\n",
    "Khởi tạo biến max: Biến max được khởi tạo với giá trị 0. Biến này sẽ lưu trữ số lớn nhất tìm được.\n",
    "\n",
    "Vòng lặp for: Hàm sử dụng một vòng lặp for để duyệt qua mọi số từ 0 đến 999999 (tức là mọi số có tối đa 6 chữ số).\n",
    "\n",
    "Kiểm tra điều kiện: Trong mỗi lần lặp, hàm kiểm tra xem số lượng chữ số khác nhau trong số hiện tại (i) bằng cách chuyển đổi i thành chuỗi và sử dụng hàm set() để loại bỏ các chữ số trùng lặp.\n",
    "\n",
    "Nếu số lượng chữ số khác nhau nhỏ hơn 6, hàm sẽ bỏ qua số đó và tiếp tục vòng lặp (continue).\n",
    "Nếu không, hàm cập nhật giá trị của max thành số hiện tại (i).\n",
    "In kết quả: Cuối cùng, sau khi vòng lặp kết thúc, hàm in giá trị của max, đó là số tự nhiên lớn nhất có sáu chữ số khác nhau.\n",
    "\n",
    "Gọi hàm: Cuối cùng, hàm được gọi để thực thi.\n",
    "\n",
    "Đoạn mã này sẽ tìm ra số lớn nhất có sáu chữ số độc lập, bắt đầu từ 0 và kết thúc ở 999999. Do cách thức hoạt động của nó, số lớn nhất tìm được sẽ là 987654, vì đó là số lớn nhất có thể tạo thành từ sáu chữ số không lặp lại."
   ]
  },
  {
   "cell_type": "code",
   "execution_count": null,
   "id": "6460f41a-8286-45ac-82f2-19e640dc0e3a",
   "metadata": {},
   "outputs": [],
   "source": [
    "Để tìm số tự nhiên lớn nhất có 6 chữ số khác nhau, bạn có thể bắt đầu từ số lớn nhất có thể (999999) và giảm dần cho đến khi tìm thấy một số mà tất cả các chữ số của nó đều khác nhau. Dưới đây là đoạn mã Python để thực hiện việc này:\n",
    "\n",
    "python\n"
   ]
  },
  {
   "cell_type": "code",
   "execution_count": null,
   "id": "4bfae108-8624-4350-819e-581fa81f8823",
   "metadata": {},
   "outputs": [],
   "source": [
    "def tim_so_lon_nhat_co_6_chu_so_khac_nhau():\n",
    "    for i in range(999999, 100000 - 1, -1):\n",
    "        if len(set(str(i))) == 6:\n",
    "            return i\n",
    "\n",
    "so_lon_nhat = tim_so_lon_nhat_co_6_chu_so_khac_nhau()\n",
    "print(so_lon_nhat)"
   ]
  },
  {
   "cell_type": "code",
   "execution_count": null,
   "id": "1bd77d73-0a6a-4ccf-bb3a-af55fda2642c",
   "metadata": {},
   "outputs": [],
   "source": [
    "Trong đoạn mã trên:\n",
    "\n",
    "Hàm tim_so_lon_nhat_co_6_chu_so_khac_nhau() lặp qua các số từ 999999 xuống 100000.\n",
    "Sử dụng set(str(i)) để chuyển đổi số thành một tập hợp các chữ số không trùng lặp.\n",
    "Nếu chiều dài của tập hợp này bằng 6, nghĩa là tất cả các chữ số đều khác nhau, số đó sẽ được trả về.\n",
    "Số lớn nhất tìm được sẽ được in ra.\n",
    "Số tìm được sẽ là 987654, vì đó là số lớn nhất bạn có thể tạo từ sáu chữ số không lặp lại."
   ]
  },
  {
   "cell_type": "code",
   "execution_count": null,
   "id": "62fa3bdd-ceaa-4d75-92e2-b5646414fd92",
   "metadata": {},
   "outputs": [],
   "source": [
    "def tim_so_nho_nhat_co_7_chu_so_khac_nhau():\n",
    "    for i in range(1000000, 9999999 + 1):\n",
    "        if len(set(str(i))) == 7:\n",
    "            return i\n",
    "\n",
    "so_nho_nhat = tim_so_nho_nhat_co_7_chu_so_khac_nhau()\n",
    "print(so_nho_nhat)"
   ]
  },
  {
   "cell_type": "code",
   "execution_count": null,
   "id": "14c45566-2c47-4f0c-aadb-187d43cc84af",
   "metadata": {},
   "outputs": [],
   "source": [
    "Ở đây:\n",
    "\n",
    "Hàm tim_so_nho_nhat_co_7_chu_so_khac_nhau() lặp qua các số từ 1000000 đến 9999999.\n",
    "Sử dụng set(str(i)) để chuyển đổi số thành một tập hợp các chữ số không trùng lặp.\n",
    "Nếu chiều dài của tập hợp này bằng 7, nghĩa là tất cả các chữ số đều khác nhau, số đó sẽ được trả về.\n",
    "Số nhỏ nhất tìm được sẽ được in ra.\n",
    "Số nhỏ nhất bạn tìm được sẽ là 1023456, vì đó là số nhỏ nhất bạn có thể tạo từ bảy chữ số không lặp lại."
   ]
  }
 ],
 "metadata": {
  "kernelspec": {
   "display_name": "Python 3 (ipykernel)",
   "language": "python",
   "name": "python3"
  },
  "language_info": {
   "codemirror_mode": {
    "name": "ipython",
    "version": 3
   },
   "file_extension": ".py",
   "mimetype": "text/x-python",
   "name": "python",
   "nbconvert_exporter": "python",
   "pygments_lexer": "ipython3",
   "version": "3.8.0"
  }
 },
 "nbformat": 4,
 "nbformat_minor": 5
}
