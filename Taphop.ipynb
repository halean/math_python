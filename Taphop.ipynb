{
 "cells": [
  {
   "cell_type": "markdown",
   "id": "b09ea3a2-1198-4e2d-9cc2-9d0c8756c665",
   "metadata": {
    "tags": []
   },
   "source": [
    "# Cho tập hợp M={\"bóng bàn\",\"bóng đá\", \"cầu lông\", \"bóng rổ\"}, hãy đọc tên các phần tử của tập hợp đó"
   ]
  },
  {
   "cell_type": "code",
   "execution_count": null,
   "id": "bde1ec55-b9fb-41b7-baf6-9b719465310a",
   "metadata": {},
   "outputs": [],
   "source": [
    "# python code\n",
    "M = {\"bóng bàn\",\"bóng đá\", \"cầu lông\", \"bóng rổ\"}\n",
    "for m in M: \n",
    "  print(m)"
   ]
  }
 ],
 "metadata": {
  "kernelspec": {
   "display_name": "Python 3 (ipykernel)",
   "language": "python",
   "name": "python3"
  },
  "language_info": {
   "codemirror_mode": {
    "name": "ipython",
    "version": 3
   },
   "file_extension": ".py",
   "mimetype": "text/x-python",
   "name": "python",
   "nbconvert_exporter": "python",
   "pygments_lexer": "ipython3",
   "version": "3.8.0"
  }
 },
 "nbformat": 4,
 "nbformat_minor": 5
}
