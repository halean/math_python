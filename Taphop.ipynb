{
 "cells": [
  {
   "cell_type": "markdown",
   "id": "b09ea3a2-1198-4e2d-9cc2-9d0c8756c665",
   "metadata": {
    "tags": []
   },
   "source": [
    "Cho tập hợp M={\"bóng bàn\",\"bóng đá\", \"cầu lông\", \"bóng rổ\"}, hãy đọc tên các phần tử của tập hợp đó"
   ]
  },
  {
   "cell_type": "code",
   "execution_count": 2,
   "id": "bde1ec55-b9fb-41b7-baf6-9b719465310a",
   "metadata": {
    "tags": []
   },
   "outputs": [
    {
     "name": "stdout",
     "output_type": "stream",
     "text": [
      "bóng rổ\n",
      "cầu lông\n",
      "bóng bàn\n",
      "bóng đá\n"
     ]
    }
   ],
   "source": [
    "# python code\n",
    "# Cho tập hợp M={\"bóng bàn\",\"bóng đá\", \"cầu lông\", \"bóng rổ\"}\n",
    "M = {\"bóng bàn\",\"bóng đá\", \"cầu lông\", \"bóng rổ\"}\n",
    "\n",
    "# đọc tên các phần tử của tập hợp đó\n",
    "for m in M:\n",
    "  print(m)"
   ]
  },
  {
   "cell_type": "markdown",
   "id": "139b1c32-1ae4-48c5-9d21-b86819a44a69",
   "metadata": {},
   "source": [
    "Cho tập hợp B = {2, 3, 5, 7}, 2 có thuộc B hay không? 4 có thuộc B hay không?"
   ]
  },
  {
   "cell_type": "code",
   "execution_count": 1,
   "id": "933b032c-99dd-4ca5-8acd-f3fedae6cff8",
   "metadata": {
    "tags": []
   },
   "outputs": [
    {
     "name": "stdout",
     "output_type": "stream",
     "text": [
      "True\n",
      "False\n"
     ]
    }
   ],
   "source": [
    "B = {2, 3, 5, 7}\n",
    "\n",
    "print (2 in B)\n",
    "print (4 in B)"
   ]
  },
  {
   "cell_type": "markdown",
   "id": "af280ad8-8cfa-4bd9-b210-f758e9310fae",
   "metadata": {},
   "source": [
    "True: Đúng\n",
    "False: Sai"
   ]
  },
  {
   "cell_type": "markdown",
   "id": "55fcb602-c846-4c51-9660-dfe48b4ed3fc",
   "metadata": {},
   "source": [
    "# Cho tập hợp M = {\"a\",\"e\", \"i\", \"o\", \"u\"}\n",
    "phát biểu nào đúng:\n",
    "* \"a\" ∈ M\n",
    "* \"b\" ∈ M\n",
    "* \"e\" ∉ M\n",
    "* \"c\" ∉ M"
   ]
  },
  {
   "cell_type": "code",
   "execution_count": 2,
   "id": "35b0c1ef-7f88-4ad7-bc8f-bda2e54f5ba3",
   "metadata": {
    "tags": []
   },
   "outputs": [
    {
     "name": "stdout",
     "output_type": "stream",
     "text": [
      "True\n",
      "False\n",
      "False\n",
      "True\n"
     ]
    }
   ],
   "source": [
    "M = {\"a\",\"e\", \"i\", \"o\", \"u\"}\n",
    "print (\"a\" in M)\n",
    "print (\"b\" in M)\n",
    "print (\"e\" not in M)\n",
    "print (\"c\" not in M)"
   ]
  },
  {
   "cell_type": "markdown",
   "id": "cb1423ca-0fd7-4e82-af7e-a907d1643246",
   "metadata": {},
   "source": [
    "Cho H là tập hợp các tháng dương lịch có 30 ngày. Phát biểu nào sau đây đúng:\n",
    "1. Tháng Hai thuộc H\n",
    "2. Tháng Ba không thuộc H\n",
    "3. Tháng Tư không thuộc H\n"
   ]
  },
  {
   "cell_type": "code",
   "execution_count": 8,
   "id": "1526ad22-6bee-4053-8392-590095d65a90",
   "metadata": {
    "tags": []
   },
   "outputs": [
    {
     "name": "stdout",
     "output_type": "stream",
     "text": [
      "False\n",
      "True\n",
      "False\n",
      "tập H gồm {9, 11, 4, 6}\n"
     ]
    }
   ],
   "source": [
    "import locale\n",
    "import calendar\n",
    "\n",
    "locale.setlocale(locale.LC_ALL, 'vi_VN')\n",
    "\n",
    "year = 2023\n",
    "\n",
    "H = {month for month in range(1, 13)\n",
    "     if calendar.monthrange(year, month)[1] == 30}\n",
    "\n",
    "print(2 in H)\n",
    "print(3 not in H)\n",
    "print(4 not in H)\n",
    "print(\"tập H gồm\", H)"
   ]
  },
  {
   "cell_type": "markdown",
   "id": "85e60abf-48cf-45f2-a739-c11358670f46",
   "metadata": {},
   "source": [
    "`for month in range(1,13)`: tập hợp số từ 1 tới 12 (các tháng từ 1 tới 12)\n",
    "\n",
    "`calendar.monthrange(year, month)[1]`: số ngày trong tháng `month` của năm `year`\n",
    "\n",
    "`{month for month in range(1,13) if calendar.monthrange(year, month)[1]==30}`: tập hợp các tháng từ 1 tới 12, và có 30 ngày.\n",
    "\n",
    "Dùng chatGPT để hiểu đoạn mã (nâng cao):\n",
    "\n",
    "Đoạn mã trên có chức năng để hiển thị thông tin về số ngày trong mỗi tháng của một năm cụ thể (trong trường hợp này là năm 2023) và thực hiện một số phép toán với tập hợp H.\n",
    "\n",
    "Cụ thể, các bước thực hiện trong mã là:\n",
    "\n",
    "Thiết lập địa phương (locale) trong Python thành 'vi_VN' để sử dụng định dạng ngôn ngữ tiếng Việt.\n",
    "\n",
    "Dùng module calendar để sử dụng các chức năng liên quan đến lịch.\n",
    "\n",
    "Xác định biến year là năm 2023 để lấy thông tin về số ngày trong các tháng của năm đó.\n",
    "\n",
    "Sử dụng vòng lặp để duyệt qua mỗi tháng từ 1 đến 12.\n",
    "\n",
    "Sử dụng hàm calendar.monthrange(year, month)[1] để lấy số ngày trong tháng đó.\n",
    "In ra thông tin số ngày của từng tháng trong định dạng tiếng Việt.\n",
    "\n",
    "Tạo một tập hợp H chứa các tháng có 30 ngày bằng cách sử dụng biểu thức set comprehension.\n",
    "\n",
    "Kiểm tra xem số 2 có trong tập H không và in kết quả.\n",
    "Kiểm tra xem số 3 có không nằm trong tập H và in kết quả.\n",
    "Kiểm tra xem số 4 có không nằm trong tập H và in kết quả.\n",
    "\n",
    "In ra thông tin về tập H.\n",
    "\n",
    "Tóm lại, đoạn mã trên dùng để hiển thị thông tin về số ngày trong từng tháng của năm 2023 và thực hiện một số phép toán trên tập hợp H chứa các tháng có 30 ngày.\n",
    "\n",
    "(ChatGPT)\n",
    "\n",
    "Sửa lại đoạn mã để H là tập hợp các tháng có 31 ngày?"
   ]
  },
  {
   "cell_type": "code",
   "execution_count": 7,
   "id": "2c546c15-e6ac-43e4-a4bd-f518331d2e05",
   "metadata": {
    "tags": []
   },
   "outputs": [
    {
     "data": {
      "text/plain": [
       "(6, 31)"
      ]
     },
     "execution_count": 7,
     "metadata": {},
     "output_type": "execute_result"
    }
   ],
   "source": [
    "A: tập hợp các số tự nhiên chẳn nhỏ hơn 10"
   ]
  },
  {
   "cell_type": "code",
   "execution_count": null,
   "id": "030b91ed-2712-4ead-ab86-006ddf2e5f15",
   "metadata": {},
   "outputs": [],
   "source": []
  }
 ],
 "metadata": {
  "kernelspec": {
   "display_name": "Python 3 (ipykernel)",
   "language": "python",
   "name": "python3"
  },
  "language_info": {
   "codemirror_mode": {
    "name": "ipython",
    "version": 3
   },
   "file_extension": ".py",
   "mimetype": "text/x-python",
   "name": "python",
   "nbconvert_exporter": "python",
   "pygments_lexer": "ipython3",
   "version": "3.8.0"
  }
 },
 "nbformat": 4,
 "nbformat_minor": 5
}
