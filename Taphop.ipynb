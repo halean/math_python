{
 "cells": [
  {
   "cell_type": "markdown",
   "id": "b09ea3a2-1198-4e2d-9cc2-9d0c8756c665",
   "metadata": {
    "tags": []
   },
   "source": [
    "# Cho tập hợp M={\"bóng bàn\",\"bóng đá\", \"cầu lông\", \"bóng rổ\"}, hãy đọc tên các phần tử của tập hợp đó"
   ]
  },
  {
   "cell_type": "code",
   "execution_count": 2,
   "id": "bde1ec55-b9fb-41b7-baf6-9b719465310a",
   "metadata": {
    "tags": []
   },
   "outputs": [
    {
     "name": "stdout",
     "output_type": "stream",
     "text": [
      "bóng rổ\n",
      "cầu lông\n",
      "bóng bàn\n",
      "bóng đá\n"
     ]
    }
   ],
   "source": [
    "# python code\n",
    "# Cho tập hợp M={\"bóng bàn\",\"bóng đá\", \"cầu lông\", \"bóng rổ\"}\n",
    "M = {\"bóng bàn\",\"bóng đá\", \"cầu lông\", \"bóng rổ\"}\n",
    "\n",
    "# đọc tên các phần tử của tập hợp đó\n",
    "for m in M:\n",
    "  print(m)"
   ]
  },
  {
   "cell_type": "markdown",
   "id": "139b1c32-1ae4-48c5-9d21-b86819a44a69",
   "metadata": {},
   "source": [
    "# Cho tập hợp B = {2, 3, 5, 7}, 2 có thuộc B hay không? 4 có thuộc B hay không?"
   ]
  },
  {
   "cell_type": "code",
   "execution_count": 1,
   "id": "933b032c-99dd-4ca5-8acd-f3fedae6cff8",
   "metadata": {
    "tags": []
   },
   "outputs": [
    {
     "name": "stdout",
     "output_type": "stream",
     "text": [
      "True\n",
      "False\n"
     ]
    }
   ],
   "source": [
    "B = {2, 3, 5, 7}\n",
    "\n",
    "print (2 in B)\n",
    "print (4 in B)"
   ]
  },
  {
   "cell_type": "markdown",
   "id": "af280ad8-8cfa-4bd9-b210-f758e9310fae",
   "metadata": {},
   "source": [
    "True: Đúng\n",
    "False: Sai"
   ]
  },
  {
   "cell_type": "markdown",
   "id": "55fcb602-c846-4c51-9660-dfe48b4ed3fc",
   "metadata": {},
   "source": [
    "# Cho tập hợp M = {\"a\",\"e\", \"i\", \"o\", \"u\"}\n",
    "phát biểu nào đúng:\n",
    "* \"a\" ∈ M\n",
    "* \"b\" ∈ M\n",
    "* \"e\" ∉ M\n",
    "* \"c\" ∉ M"
   ]
  },
  {
   "cell_type": "code",
   "execution_count": 2,
   "id": "35b0c1ef-7f88-4ad7-bc8f-bda2e54f5ba3",
   "metadata": {
    "tags": []
   },
   "outputs": [
    {
     "name": "stdout",
     "output_type": "stream",
     "text": [
      "True\n",
      "False\n",
      "False\n",
      "True\n"
     ]
    }
   ],
   "source": [
    "M = {\"a\",\"e\", \"i\", \"o\", \"u\"}\n",
    "print (\"a\" in M)\n",
    "print (\"b\" in M)\n",
    "print (\"e\" not in M)\n",
    "print (\"c\" not in M)"
   ]
  },
  {
   "cell_type": "markdown",
   "id": "cb1423ca-0fd7-4e82-af7e-a907d1643246",
   "metadata": {},
   "source": [
    "# Cho H là tập hợp các tháng dương lịch có 30 ngày. Phát biểu nào sau đây đúng:\n",
    "1. Tháng Hai thuộc H\n",
    "2. Tháng Ba không thuộc H\n",
    "3. Tháng Tư không thuộc H\n"
   ]
  },
  {
   "cell_type": "code",
   "execution_count": 8,
   "id": "1526ad22-6bee-4053-8392-590095d65a90",
   "metadata": {
    "tags": []
   },
   "outputs": [
    {
     "name": "stdout",
     "output_type": "stream",
     "text": [
      "False\n",
      "True\n",
      "False\n",
      "tập H gồm {9, 11, 4, 6}\n"
     ]
    }
   ],
   "source": [
    "import locale\n",
    "import calendar\n",
    "\n",
    "locale.setlocale(locale.LC_ALL, 'vi_VN')\n",
    "\n",
    "year = 2023\n",
    "\n",
    "H = {month for month in range(1, 13)\n",
    "     if calendar.monthrange(year, month)[1] == 30}\n",
    "\n",
    "print(2 in H)\n",
    "print(3 not in H)\n",
    "print(4 not in H)\n",
    "print(\"tập H gồm\", H)"
   ]
  },
  {
   "cell_type": "markdown",
   "id": "85e60abf-48cf-45f2-a739-c11358670f46",
   "metadata": {},
   "source": [
    "`for month in range(1,13)`: tập hợp số từ 1 tới 12 (các tháng từ 1 tới 12)\n",
    "\n",
    "`calendar.monthrange(year, month)[1]`: số ngày trong tháng `month` của năm `year`\n",
    "\n",
    "`{month for month in range(1,13) if calendar.monthrange(year, month)[1]==30}`: tập hợp các tháng từ 1 tới 12, và có 30 ngày.\n",
    "\n",
    "Dùng chatGPT để hiểu đoạn mã (nâng cao):\n",
    "\n",
    "Đoạn mã trên có chức năng để hiển thị thông tin về số ngày trong mỗi tháng của một năm cụ thể (trong trường hợp này là năm 2023) và thực hiện một số phép toán với tập hợp H.\n",
    "\n",
    "Cụ thể, các bước thực hiện trong mã là:\n",
    "\n",
    "Thiết lập địa phương (locale) trong Python thành 'vi_VN' để sử dụng định dạng ngôn ngữ tiếng Việt.\n",
    "\n",
    "Dùng module calendar để sử dụng các chức năng liên quan đến lịch.\n",
    "\n",
    "Xác định biến year là năm 2023 để lấy thông tin về số ngày trong các tháng của năm đó.\n",
    "\n",
    "Sử dụng vòng lặp để duyệt qua mỗi tháng từ 1 đến 12.\n",
    "\n",
    "Sử dụng hàm calendar.monthrange(year, month)[1] để lấy số ngày trong tháng đó.\n",
    "In ra thông tin số ngày của từng tháng trong định dạng tiếng Việt.\n",
    "\n",
    "Tạo một tập hợp H chứa các tháng có 30 ngày bằng cách sử dụng biểu thức set comprehension.\n",
    "\n",
    "Kiểm tra xem số 2 có trong tập H không và in kết quả.\n",
    "Kiểm tra xem số 3 có không nằm trong tập H và in kết quả.\n",
    "Kiểm tra xem số 4 có không nằm trong tập H và in kết quả.\n",
    "\n",
    "In ra thông tin về tập H.\n",
    "\n",
    "Tóm lại, đoạn mã trên dùng để hiển thị thông tin về số ngày trong từng tháng của năm 2023 và thực hiện một số phép toán trên tập hợp H chứa các tháng có 30 ngày.\n",
    "\n",
    "(ChatGPT)\n",
    "\n",
    "Sửa lại đoạn mã để H là tập hợp các tháng có 31 ngày?"
   ]
  },
  {
   "cell_type": "markdown",
   "id": "4721fa9a-4dee-4271-bac6-5fe2a8cc5348",
   "metadata": {
    "tags": []
   },
   "source": [
    "# A: tập hợp các số tự nhiên chẳn nhỏ hơn 10"
   ]
  },
  {
   "cell_type": "code",
   "execution_count": 3,
   "id": "030b91ed-2712-4ead-ab86-006ddf2e5f15",
   "metadata": {},
   "outputs": [
    {
     "data": {
      "text/plain": [
       "{0, 2, 4, 6, 8}"
      ]
     },
     "execution_count": 3,
     "metadata": {},
     "output_type": "execute_result"
    }
   ],
   "source": [
    "A = {\n",
    "    s for s in range(10) if s % 2 == 0  # Tạo một tập hợp A gồm các số chẵn từ 0 đến 10: \n",
    "}\n",
    "A\n",
    "# range(10): số nguyên từ 0 tới 9; số tự nhiên nhỏ hơn 10\n",
    "# s % 2: số dư của phép chia s cho 2. Số chẵn: s % 2 == 0\n"
   ]
  },
  {
   "cell_type": "markdown",
   "id": "db1dfcb4-725d-4089-a28b-b9664aaccd9d",
   "metadata": {},
   "source": [
    "# Cho C là tập hợp các số tự nhiên x chia cho 3 dư 1 và 3<x<18"
   ]
  },
  {
   "cell_type": "code",
   "execution_count": 4,
   "id": "f089056e-2363-4f70-a6af-66d1a2eb84d7",
   "metadata": {
    "tags": []
   },
   "outputs": [
    {
     "data": {
      "text/plain": [
       "{4, 7, 10, 13, 16}"
      ]
     },
     "execution_count": 4,
     "metadata": {},
     "output_type": "execute_result"
    }
   ],
   "source": [
    "C = {\n",
    "    x for x in range(3,18) if x % 3 == 1\n",
    "}\n",
    "C\n",
    "# range(3, 18): số nguyên lớn hơn hay bằng 3, nhỏ hơn 18\n",
    "# x % 3: số dư của phép chia x cho 3. x chia cho 3 dư 1: x % 3 == 1"
   ]
  },
  {
   "cell_type": "markdown",
   "id": "a915e75e-d4e2-4830-9abc-248662a8a1bc",
   "metadata": {},
   "source": [
    "**B** là tập hợp các chữ cái xuất hiện trong từ: \"ĐÔNG ĐÔ\"\n"
   ]
  },
  {
   "cell_type": "code",
   "execution_count": 5,
   "id": "5cd76cbe-4da7-42f4-b756-1619bea9f5e3",
   "metadata": {
    "tags": []
   },
   "outputs": [
    {
     "data": {
      "text/plain": [
       "{'G', 'N', 'Ô', 'Đ'}"
      ]
     },
     "execution_count": 5,
     "metadata": {},
     "output_type": "execute_result"
    }
   ],
   "source": [
    "B = {\n",
    "    c for c in \"ĐÔNG ĐÔ\" if str.isalpha(c)\n",
    "}\n",
    "B\n",
    "# c in \"ĐÔNG ĐÔ\": các chữ cái trong từ ĐÔNG ĐÔ."
   ]
  },
  {
   "cell_type": "markdown",
   "id": "a85ba278-5053-4cb3-9f4b-3e60b31ad8f9",
   "metadata": {},
   "source": [
    "Viết tập hợp các số trong \"2020\""
   ]
  },
  {
   "cell_type": "code",
   "execution_count": 6,
   "id": "c4901331-40c2-43a1-bddf-5358fc223dc1",
   "metadata": {
    "tags": []
   },
   "outputs": [
    {
     "data": {
      "text/plain": [
       "{'0', '2'}"
      ]
     },
     "execution_count": 6,
     "metadata": {},
     "output_type": "execute_result"
    }
   ],
   "source": [
    "{\n",
    "    c for c in \"2020\"\n",
    "}"
   ]
  },
  {
   "cell_type": "markdown",
   "id": "8183f854-9191-4405-919b-23ad1098ea2a",
   "metadata": {},
   "source": [
    "Cho tập hợp $E = \\{x | x\\,là\\,số\\,tự\\,nhiên, 3<x<9\\}$"
   ]
  },
  {
   "cell_type": "code",
   "execution_count": 7,
   "id": "581300aa-5070-43ca-9c40-bd7580e565e7",
   "metadata": {
    "tags": []
   },
   "outputs": [
    {
     "name": "stdout",
     "output_type": "stream",
     "text": [
      "{4, 5, 6, 7, 8}\n"
     ]
    }
   ],
   "source": [
    "E = {\n",
    "    x for x in range(4,9)\n",
    "}\n",
    "print(E)\n"
   ]
  },
  {
   "cell_type": "markdown",
   "id": "5c00320b-e8c5-4222-8715-c14780a9b045",
   "metadata": {},
   "source": [
    "$4 \\in E$ ?"
   ]
  },
  {
   "cell_type": "code",
   "execution_count": 8,
   "id": "057b58e8-4b37-4bcb-92ea-b047f1fedc21",
   "metadata": {
    "tags": []
   },
   "outputs": [
    {
     "name": "stdout",
     "output_type": "stream",
     "text": [
      "True\n"
     ]
    }
   ],
   "source": [
    "print(4 in E)"
   ]
  },
  {
   "cell_type": "markdown",
   "id": "9f447ea8-78d2-4a27-9c49-0b74956c9175",
   "metadata": {},
   "source": [
    "# B là tập hợp các chữ cái xuất hiện trong từ: \"ĐÔNG ĐÔ\""
   ]
  },
  {
   "cell_type": "code",
   "execution_count": 1,
   "id": "bff11cbd-d207-4774-9c3c-595b54de4bcc",
   "metadata": {
    "tags": []
   },
   "outputs": [
    {
     "data": {
      "text/plain": [
       "{'G', 'N', 'Ô', 'Đ'}"
      ]
     },
     "execution_count": 1,
     "metadata": {},
     "output_type": "execute_result"
    }
   ],
   "source": [
    "B = {\n",
    "    c for c in \"ĐÔNG ĐÔ\" if str.isalpha(c)\n",
    "}\n",
    "B"
   ]
  },
  {
   "cell_type": "markdown",
   "id": "98a9885d-845d-4e49-ae87-30bda673054e",
   "metadata": {},
   "source": [
    "`str.isalpha(c)`: c là chữ cái: `True`, c không phải là chữ cái: `False`. Khoảng trắng không phải là chữ cái. \n",
    "\n",
    "Thử \n",
    "`\n",
    "B = {c for c in \"ĐÔNG ĐÔ\"}\n",
    "`"
   ]
  },
  {
   "cell_type": "code",
   "execution_count": 2,
   "id": "a1c24cb7-6b35-4f3c-9c33-790fe2d9fde1",
   "metadata": {
    "tags": []
   },
   "outputs": [
    {
     "data": {
      "text/plain": [
       "{' ', 'G', 'N', 'Ô', 'Đ'}"
      ]
     },
     "execution_count": 2,
     "metadata": {},
     "output_type": "execute_result"
    }
   ],
   "source": [
    "B = {c for c in \"ĐÔNG ĐÔ\"}\n",
    "B"
   ]
  },
  {
   "cell_type": "markdown",
   "id": "9fefb496-a031-4804-a515-5ca809fbfe15",
   "metadata": {},
   "source": []
  },
  {
   "cell_type": "code",
   "execution_count": null,
   "id": "c939c1f4-9f3d-40ca-bb7d-b7ac89431881",
   "metadata": {},
   "outputs": [],
   "source": []
  }
 ],
 "metadata": {
  "kernelspec": {
   "display_name": "Python 3 (ipykernel)",
   "language": "python",
   "name": "python3"
  },
  "language_info": {
   "codemirror_mode": {
    "name": "ipython",
    "version": 3
   },
   "file_extension": ".py",
   "mimetype": "text/x-python",
   "name": "python",
   "nbconvert_exporter": "python",
   "pygments_lexer": "ipython3",
   "version": "3.8.0"
  }
 },
 "nbformat": 4,
 "nbformat_minor": 5
}
