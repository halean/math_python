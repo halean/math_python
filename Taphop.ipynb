{
 "cells": [
  {
   "cell_type": "markdown",
   "id": "b09ea3a2-1198-4e2d-9cc2-9d0c8756c665",
   "metadata": {
    "tags": []
   },
   "source": [
    "# Cho tập hợp M={\"bóng bàn\",\"bóng đá\", \"cầu lông\", \"bóng rổ\"}, hãy đọc tên các phần tử của tập hợp đó"
   ]
  },
  {
   "cell_type": "code",
   "execution_count": 2,
   "id": "bde1ec55-b9fb-41b7-baf6-9b719465310a",
   "metadata": {
    "tags": []
   },
   "outputs": [
    {
     "name": "stdout",
     "output_type": "stream",
     "text": [
      "bóng rổ\n",
      "cầu lông\n",
      "bóng bàn\n",
      "bóng đá\n"
     ]
    }
   ],
   "source": [
    "# python code\n",
    "# Cho tập hợp M={\"bóng bàn\",\"bóng đá\", \"cầu lông\", \"bóng rổ\"}\n",
    "M = {\"bóng bàn\",\"bóng đá\", \"cầu lông\", \"bóng rổ\"}\n",
    "\n",
    "# đọc tên các phần tử của tập hợp đó\n",
    "for m in M:\n",
    "  print(m)"
   ]
  },
  {
   "cell_type": "code",
   "execution_count": null,
   "id": "0db595de-7029-4ff5-b8ea-7ee0c2edf824",
   "metadata": {},
   "outputs": [],
   "source": []
  }
 ],
 "metadata": {
  "kernelspec": {
   "display_name": "Python 3 (ipykernel)",
   "language": "python",
   "name": "python3"
  },
  "language_info": {
   "codemirror_mode": {
    "name": "ipython",
    "version": 3
   },
   "file_extension": ".py",
   "mimetype": "text/x-python",
   "name": "python",
   "nbconvert_exporter": "python",
   "pygments_lexer": "ipython3",
   "version": "3.8.0"
  }
 },
 "nbformat": 4,
 "nbformat_minor": 5
}
